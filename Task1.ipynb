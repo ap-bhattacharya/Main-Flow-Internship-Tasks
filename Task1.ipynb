{
 "cells": [
  {
   "cell_type": "code",
   "execution_count": 1,
   "id": "b177dedd-f62c-4093-8817-f4fdc96520a5",
   "metadata": {},
   "outputs": [
    {
     "name": "stdout",
     "output_type": "stream",
     "text": [
      "Updated List: [1, 10, 4, 5, 6]\n"
     ]
    }
   ],
   "source": [
    "#Creating a list\n",
    "my_list = [1,2,3,4,5]\n",
    "\n",
    "#Adding an element to the list\n",
    "my_list.append(6)\n",
    "\n",
    "#Removing an element from list\n",
    "my_list.remove(3)\n",
    "\n",
    "#Modifying an element in the list\n",
    "my_list[1] = 10\n",
    "\n",
    "print(\"Updated List:\" ,my_list)"
   ]
  },
  {
   "cell_type": "code",
   "execution_count": 2,
   "id": "8da164f1-9909-4ffe-8175-a97941fa07ce",
   "metadata": {},
   "outputs": [
    {
     "name": "stdout",
     "output_type": "stream",
     "text": [
      "Updated Dictionary:  {'name': 'AP Bhattacharya', 'city': 'Ludhiana', 'gender': 'Male'}\n"
     ]
    }
   ],
   "source": [
    "#Creating a dictionary\n",
    "my_dict = {\"name\" : \"AP Bhattacharya\", \"age\" : 21, \"city\" : \"Chandigarh\"}\n",
    "\n",
    "#Adding an element to the dictionary\n",
    "my_dict[\"gender\"] = \"Male\"\n",
    "\n",
    "#Removing an element from dictionary\n",
    "del my_dict[\"age\"]\n",
    "\n",
    "#Modifying an element in the dictionary\n",
    "my_dict[\"city\"] = \"Ludhiana\"\n",
    "\n",
    "print(\"Updated Dictionary: \", my_dict)"
   ]
  },
  {
   "cell_type": "code",
   "execution_count": 3,
   "id": "e62b3f5a-f0f0-4980-9d16-79c3aa9e64d5",
   "metadata": {},
   "outputs": [
    {
     "name": "stdout",
     "output_type": "stream",
     "text": [
      "Updated Set:  {2, 4, 5, 6, 7, 10}\n"
     ]
    }
   ],
   "source": [
    "#Create a set\n",
    "my_set = {1,2,3,4,5,7}\n",
    "\n",
    "#Adding an element to the set\n",
    "my_set.add(6)\n",
    "\n",
    "#Removing an element from set\n",
    "my_set.remove(3)\n",
    "\n",
    "#Modifying an element in the set\n",
    "my_set.add(10)\n",
    "my_set.discard(1)\n",
    "\n",
    "print(\"Updated Set: \", my_set)"
   ]
  },
  {
   "cell_type": "code",
   "execution_count": null,
   "id": "8de97724-22ff-4fa9-9f9e-c223557c111d",
   "metadata": {},
   "outputs": [],
   "source": []
  }
 ],
 "metadata": {
  "kernelspec": {
   "display_name": "Python 3 (ipykernel)",
   "language": "python",
   "name": "python3"
  },
  "language_info": {
   "codemirror_mode": {
    "name": "ipython",
    "version": 3
   },
   "file_extension": ".py",
   "mimetype": "text/x-python",
   "name": "python",
   "nbconvert_exporter": "python",
   "pygments_lexer": "ipython3",
   "version": "3.11.7"
  }
 },
 "nbformat": 4,
 "nbformat_minor": 5
}
